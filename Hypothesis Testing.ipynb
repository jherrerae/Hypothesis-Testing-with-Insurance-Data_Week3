{
 "cells": [
  {
   "cell_type": "code",
   "execution_count": 1,
   "id": "ef944ce1",
   "metadata": {},
   "outputs": [
    {
     "data": {
      "text/plain": [
       "[]"
      ]
     },
     "execution_count": 1,
     "metadata": {},
     "output_type": "execute_result"
    }
   ],
   "source": [
    "# creating folder to save files \n",
    "import os\n",
    "os.makedirs('Data/',exist_ok=True) \n",
    "# Confirm folder created\n",
    "os.listdir(\"Data/\")\n"
   ]
  },
  {
   "cell_type": "code",
   "execution_count": 2,
   "id": "c218500a",
   "metadata": {},
   "outputs": [],
   "source": [
    "import pandas as pd\n",
    "import matplotlib.pyplot as plt\n",
    "import seaborn as sns\n",
    "plt.style.use('seaborn')\n",
    "import numpy as np\n",
    "from scipy import stats"
   ]
  },
  {
   "cell_type": "code",
   "execution_count": 3,
   "id": "908f9ce0",
   "metadata": {
    "scrolled": true
   },
   "outputs": [
    {
     "data": {
      "text/html": [
       "<div>\n",
       "<style scoped>\n",
       "    .dataframe tbody tr th:only-of-type {\n",
       "        vertical-align: middle;\n",
       "    }\n",
       "\n",
       "    .dataframe tbody tr th {\n",
       "        vertical-align: top;\n",
       "    }\n",
       "\n",
       "    .dataframe thead th {\n",
       "        text-align: right;\n",
       "    }\n",
       "</style>\n",
       "<table border=\"1\" class=\"dataframe\">\n",
       "  <thead>\n",
       "    <tr style=\"text-align: right;\">\n",
       "      <th></th>\n",
       "      <th>age</th>\n",
       "      <th>sex</th>\n",
       "      <th>bmi</th>\n",
       "      <th>children</th>\n",
       "      <th>smoker</th>\n",
       "      <th>region</th>\n",
       "      <th>charges</th>\n",
       "    </tr>\n",
       "  </thead>\n",
       "  <tbody>\n",
       "    <tr>\n",
       "      <th>0</th>\n",
       "      <td>19</td>\n",
       "      <td>female</td>\n",
       "      <td>27.900</td>\n",
       "      <td>0</td>\n",
       "      <td>yes</td>\n",
       "      <td>southwest</td>\n",
       "      <td>16884.92400</td>\n",
       "    </tr>\n",
       "    <tr>\n",
       "      <th>1</th>\n",
       "      <td>18</td>\n",
       "      <td>male</td>\n",
       "      <td>33.770</td>\n",
       "      <td>1</td>\n",
       "      <td>no</td>\n",
       "      <td>southeast</td>\n",
       "      <td>1725.55230</td>\n",
       "    </tr>\n",
       "    <tr>\n",
       "      <th>2</th>\n",
       "      <td>28</td>\n",
       "      <td>male</td>\n",
       "      <td>33.000</td>\n",
       "      <td>3</td>\n",
       "      <td>no</td>\n",
       "      <td>southeast</td>\n",
       "      <td>4449.46200</td>\n",
       "    </tr>\n",
       "    <tr>\n",
       "      <th>3</th>\n",
       "      <td>33</td>\n",
       "      <td>male</td>\n",
       "      <td>22.705</td>\n",
       "      <td>0</td>\n",
       "      <td>no</td>\n",
       "      <td>northwest</td>\n",
       "      <td>21984.47061</td>\n",
       "    </tr>\n",
       "    <tr>\n",
       "      <th>4</th>\n",
       "      <td>32</td>\n",
       "      <td>male</td>\n",
       "      <td>28.880</td>\n",
       "      <td>0</td>\n",
       "      <td>no</td>\n",
       "      <td>northwest</td>\n",
       "      <td>3866.85520</td>\n",
       "    </tr>\n",
       "  </tbody>\n",
       "</table>\n",
       "</div>"
      ],
      "text/plain": [
       "   age     sex     bmi  children smoker     region      charges\n",
       "0   19  female  27.900         0    yes  southwest  16884.92400\n",
       "1   18    male  33.770         1     no  southeast   1725.55230\n",
       "2   28    male  33.000         3     no  southeast   4449.46200\n",
       "3   33    male  22.705         0     no  northwest  21984.47061\n",
       "4   32    male  28.880         0     no  northwest   3866.85520"
      ]
     },
     "execution_count": 3,
     "metadata": {},
     "output_type": "execute_result"
    }
   ],
   "source": [
    "filename=\"Data/insurance - insurance.csv\"\n",
    "df=pd.read_csv(filename)\n",
    "df.head(5)"
   ]
  },
  {
   "cell_type": "code",
   "execution_count": null,
   "id": "15003c9b",
   "metadata": {},
   "outputs": [],
   "source": []
  },
  {
   "cell_type": "markdown",
   "id": "31f91f66",
   "metadata": {},
   "source": [
    "# Question 1. Do smokers have higher insurance charges than non-smokers?"
   ]
  },
  {
   "cell_type": "markdown",
   "id": "518fa2c6",
   "metadata": {},
   "source": [
    "## Hypotheses\n",
    "\n",
    "Null: Smokers and non-smokers have the same insurance charges.\n",
    "\n",
    "Alternative: Smokers have higher insurance charges than non-smokers\n",
    "\n",
    "*Numerical Data*\n",
    "\n",
    "Comparing 2 groups a 2 sample T_test will be used\n",
    "\n"
   ]
  },
  {
   "cell_type": "code",
   "execution_count": null,
   "id": "f8846e76",
   "metadata": {},
   "outputs": [],
   "source": [
    "\n",
    "# Filtering out those with and without super strength\n",
    "non_smoker_df = df.loc[df['smoker']== 'no'].copy()\n",
    "smoker_df = df.loc[df['smoker']== 'yes'].copy()\n",
    "\n",
    "non_smoker = non_smoker_df['charges']\n",
    "smoker = smoker_df['charges']"
   ]
  },
  {
   "cell_type": "code",
   "execution_count": 14,
   "id": "b6a0bcfc",
   "metadata": {},
   "outputs": [
    {
     "data": {
      "text/plain": [
       "NormaltestResult(statistic=316.4528082392722, pvalue=1.9193129759002216e-69)"
      ]
     },
     "execution_count": 14,
     "metadata": {},
     "output_type": "execute_result"
    }
   ],
   "source": [
    "# test the strength group for normality\n",
    "result_non_smoker = stats.normaltest(non_smoker)\n",
    "result_non_smoker"
   ]
  },
  {
   "cell_type": "code",
   "execution_count": 15,
   "id": "f205949b",
   "metadata": {},
   "outputs": [
    {
     "data": {
      "text/plain": [
       "NormaltestResult(statistic=61.03941356533816, pvalue=5.564930630036463e-14)"
      ]
     },
     "execution_count": 15,
     "metadata": {},
     "output_type": "execute_result"
    }
   ],
   "source": [
    "result_smoker = stats.normaltest(smoker)\n",
    "result_smoker"
   ]
  },
  {
   "cell_type": "code",
   "execution_count": 19,
   "id": "54bc5235",
   "metadata": {},
   "outputs": [
    {
     "data": {
      "text/plain": [
       "(274,)"
      ]
     },
     "execution_count": 19,
     "metadata": {},
     "output_type": "execute_result"
    }
   ],
   "source": [
    "np.shape(smoker)"
   ]
  },
  {
   "cell_type": "code",
   "execution_count": 20,
   "id": "cf54fc47",
   "metadata": {},
   "outputs": [
    {
     "data": {
      "text/plain": [
       "(1064,)"
      ]
     },
     "execution_count": 20,
     "metadata": {},
     "output_type": "execute_result"
    }
   ],
   "source": [
    "np.shape(non_smoker)"
   ]
  },
  {
   "cell_type": "markdown",
   "id": "f2c4c988",
   "metadata": {},
   "source": [
    "Data is not normal, but given that the 2 samples are greater than 15, the process will be continued."
   ]
  },
  {
   "cell_type": "code",
   "execution_count": 22,
   "id": "eae5249d",
   "metadata": {},
   "outputs": [
    {
     "data": {
      "text/plain": [
       "LeveneResult(statistic=332.6135162726081, pvalue=1.5593284881803726e-66)"
      ]
     },
     "execution_count": 22,
     "metadata": {},
     "output_type": "execute_result"
    }
   ],
   "source": [
    "# Test for equal variance\n",
    "result = stats.levene(smoker, non_smoker)\n",
    "result"
   ]
  },
  {
   "cell_type": "markdown",
   "id": "a61c8b97",
   "metadata": {},
   "source": [
    "Variance is not the same for both samples, something to take into account"
   ]
  },
  {
   "cell_type": "code",
   "execution_count": 23,
   "id": "b956b1f2",
   "metadata": {},
   "outputs": [
    {
     "data": {
      "text/plain": [
       "Ttest_indResult(statistic=32.751887766341824, pvalue=5.88946444671698e-103)"
      ]
     },
     "execution_count": 23,
     "metadata": {},
     "output_type": "execute_result"
    }
   ],
   "source": [
    "# Independent t-test with equal_var set to False\n",
    "result = stats.ttest_ind(smoker, non_smoker, equal_var = False)\n",
    "result"
   ]
  },
  {
   "cell_type": "markdown",
   "id": "52e8e71e",
   "metadata": {},
   "source": [
    "pvalue<alpha the null hypothesis can be rejected. There is a significant difference between the charges of non-smokers and smokers.\n",
    "Analyzing the graph below smokers have higher charges that non-smokers."
   ]
  },
  {
   "cell_type": "code",
   "execution_count": 24,
   "id": "921b4089",
   "metadata": {},
   "outputs": [
    {
     "data": {
      "image/png": "[encoded data removed]",
      "text/plain": [
       "<Figure size 720x360 with 2 Axes>"
      ]
     },
     "metadata": {},
     "output_type": "display_data"
    }
   ],
   "source": [
    "## Visualizing Sample means\n",
    "fig, (ax,ax_bar) = plt.subplots(figsize= (10,5), ncols=2, \n",
    "                                constrained_layout=True,\n",
    "                                gridspec_kw={'width_ratios':[0.8,0.2]})\n",
    "\n",
    "\n",
    "# Histogram\n",
    "ax = sns.histplot(data=df, x='charges',fill=True,hue='smoker',kde=True,\n",
    "                  stat='density',common_norm=False,ax=ax)\n",
    "\n",
    "ax.axvline(np.mean(non_smoker), ls='--',lw=3, \n",
    "           label=f\"non_smoker (Mean={np.mean(non_smoker):.2f})\")\n",
    "\n",
    "ax.axvline(np.mean(smoker), ls='-', lw=3, \n",
    "           label=f\"smoker (Mean={np.mean(smoker):.2f})\")\n",
    "\n",
    "ax.legend(prop={\"size\":14}, loc='upper right')#bbox_to_anchor=[1,1])\n",
    "## Barplot\n",
    "sns.barplot(data=df, x='smoker',y='charges',ax = ax_bar)\n",
    "fig.suptitle('Comparison of charges smoker/non-smoker',fontsize='xx-large');"
   ]
  },
  {
   "cell_type": "code",
   "execution_count": null,
   "id": "59ea15d9",
   "metadata": {},
   "outputs": [],
   "source": []
  },
  {
   "cell_type": "code",
   "execution_count": null,
   "id": "268716a2",
   "metadata": {},
   "outputs": [],
   "source": []
  },
  {
   "cell_type": "markdown",
   "id": "2ed66d06",
   "metadata": {},
   "source": [
    "# Question 2. Are men more likely to smoke than women?"
   ]
  },
  {
   "cell_type": "markdown",
   "id": "0caf5f50",
   "metadata": {},
   "source": [
    "## Hypotheses\n",
    "\n",
    "Null: Men and women are equal likely to smoke.\n",
    "\n",
    "Alternative: Men are more likely to smoke than women\n",
    "\n",
    "*Categorical Data*\n",
    "\n",
    "chi-Square Test\n",
    "\n",
    "\n",
    "\n",
    "\n",
    "\n"
   ]
  },
  {
   "cell_type": "code",
   "execution_count": 26,
   "id": "e697b795",
   "metadata": {},
   "outputs": [
    {
     "data": {
      "image/png": "[encoded data removed]",
      "text/plain": [
       "<Figure size 576x396 with 1 Axes>"
      ]
     },
     "metadata": {},
     "output_type": "display_data"
    }
   ],
   "source": [
    "ax = sns.countplot(data=df, x='sex',hue='smoker',)\n",
    "ax.set_title(\"Number of smokers by Sex\");"
   ]
  },
  {
   "cell_type": "code",
   "execution_count": 27,
   "id": "172ab553",
   "metadata": {},
   "outputs": [
    {
     "data": {
      "text/html": [
       "<div>\n",
       "<style scoped>\n",
       "    .dataframe tbody tr th:only-of-type {\n",
       "        vertical-align: middle;\n",
       "    }\n",
       "\n",
       "    .dataframe tbody tr th {\n",
       "        vertical-align: top;\n",
       "    }\n",
       "\n",
       "    .dataframe thead th {\n",
       "        text-align: right;\n",
       "    }\n",
       "</style>\n",
       "<table border=\"1\" class=\"dataframe\">\n",
       "  <thead>\n",
       "    <tr style=\"text-align: right;\">\n",
       "      <th>smoker</th>\n",
       "      <th>no</th>\n",
       "      <th>yes</th>\n",
       "    </tr>\n",
       "    <tr>\n",
       "      <th>sex</th>\n",
       "      <th></th>\n",
       "      <th></th>\n",
       "    </tr>\n",
       "  </thead>\n",
       "  <tbody>\n",
       "    <tr>\n",
       "      <th>female</th>\n",
       "      <td>547</td>\n",
       "      <td>115</td>\n",
       "    </tr>\n",
       "    <tr>\n",
       "      <th>male</th>\n",
       "      <td>517</td>\n",
       "      <td>159</td>\n",
       "    </tr>\n",
       "  </tbody>\n",
       "</table>\n",
       "</div>"
      ],
      "text/plain": [
       "smoker   no  yes\n",
       "sex             \n",
       "female  547  115\n",
       "male    517  159"
      ]
     },
     "execution_count": 27,
     "metadata": {},
     "output_type": "execute_result"
    }
   ],
   "source": [
    "# calculate the contingency table with pd.cross-tab\n",
    "table = pd.crosstab(df['sex'], df['smoker'])\n",
    "table"
   ]
  },
  {
   "cell_type": "code",
   "execution_count": 28,
   "id": "bb0f9d6d",
   "metadata": {},
   "outputs": [],
   "source": [
    "result = stats.chi2_contingency(table)\n",
    "chi2, p, deg_free, expected_vals = result #this labels the results"
   ]
  },
  {
   "cell_type": "code",
   "execution_count": 29,
   "id": "cfd061c0",
   "metadata": {},
   "outputs": [
    {
     "name": "stdout",
     "output_type": "stream",
     "text": [
      "0.006548143503580696\n"
     ]
    },
    {
     "data": {
      "text/plain": [
       "True"
      ]
     },
     "execution_count": 29,
     "metadata": {},
     "output_type": "execute_result"
    }
   ],
   "source": [
    "# What was our p-value?\n",
    "print(p)\n",
    "p<.05"
   ]
  },
  {
   "cell_type": "markdown",
   "id": "98e3dca1",
   "metadata": {},
   "source": [
    "The alternate hypothesis is accepted. Men are more likely to smoke than women."
   ]
  },
  {
   "cell_type": "markdown",
   "id": "144885b9",
   "metadata": {},
   "source": [
    "# Question 3. Do different regions have different charges, on average?"
   ]
  },
  {
   "cell_type": "markdown",
   "id": "d7b8896c",
   "metadata": {},
   "source": [
    "## Hypotheses\n",
    "\n",
    "Null: Different regions have the same charges.\n",
    "\n",
    "Alternative: Different regions have different results\n",
    "\n",
    "*Numerical Data*\n",
    "\n",
    "Comparing more than 2 groups a Anova test will be used\n"
   ]
  },
  {
   "cell_type": "code",
   "execution_count": 54,
   "id": "897f1599",
   "metadata": {},
   "outputs": [
    {
     "data": {
      "text/plain": [
       "dict_keys(['southwest', 'southeast', 'northwest', 'northeast'])"
      ]
     },
     "execution_count": 54,
     "metadata": {},
     "output_type": "execute_result"
    }
   ],
   "source": [
    "groups = {}\n",
    "## Loop through all unique categories\n",
    "for i in df['region'].unique():\n",
    "    ## Get series for group and rename\n",
    "    data = df.loc[df['region']==i,'charges'].copy()\n",
    "    \n",
    "    # save into the dictionary\n",
    "    groups[i] = data\n",
    "groups.keys()"
   ]
  },
  {
   "cell_type": "code",
   "execution_count": 55,
   "id": "874fc8d7",
   "metadata": {},
   "outputs": [],
   "source": [
    "# Check for outliers in weight for strength group\n",
    "\n",
    "for region,charges in groups.items():\n",
    "    outliers=np.abs(stats.zscore(charges))>3\n",
    "    charges=charges.loc[~outliers]\n",
    "    groups[region]=charges"
   ]
  },
  {
   "cell_type": "code",
   "execution_count": 57,
   "id": "7593ef81",
   "metadata": {},
   "outputs": [
    {
     "data": {
      "text/html": [
       "<div>\n",
       "<style scoped>\n",
       "    .dataframe tbody tr th:only-of-type {\n",
       "        vertical-align: middle;\n",
       "    }\n",
       "\n",
       "    .dataframe tbody tr th {\n",
       "        vertical-align: top;\n",
       "    }\n",
       "\n",
       "    .dataframe thead th {\n",
       "        text-align: right;\n",
       "    }\n",
       "</style>\n",
       "<table border=\"1\" class=\"dataframe\">\n",
       "  <thead>\n",
       "    <tr style=\"text-align: right;\">\n",
       "      <th></th>\n",
       "      <th>n</th>\n",
       "      <th>p</th>\n",
       "      <th>test stat</th>\n",
       "      <th>sig</th>\n",
       "    </tr>\n",
       "  </thead>\n",
       "  <tbody>\n",
       "    <tr>\n",
       "      <th>southwest</th>\n",
       "      <td>317.0</td>\n",
       "      <td>7.728611e-22</td>\n",
       "      <td>97.223886</td>\n",
       "      <td>True</td>\n",
       "    </tr>\n",
       "    <tr>\n",
       "      <th>southeast</th>\n",
       "      <td>362.0</td>\n",
       "      <td>1.936990e-13</td>\n",
       "      <td>58.544942</td>\n",
       "      <td>True</td>\n",
       "    </tr>\n",
       "    <tr>\n",
       "      <th>northwest</th>\n",
       "      <td>318.0</td>\n",
       "      <td>2.940543e-19</td>\n",
       "      <td>85.341045</td>\n",
       "      <td>True</td>\n",
       "    </tr>\n",
       "    <tr>\n",
       "      <th>northeast</th>\n",
       "      <td>320.0</td>\n",
       "      <td>3.557877e-17</td>\n",
       "      <td>75.749565</td>\n",
       "      <td>True</td>\n",
       "    </tr>\n",
       "  </tbody>\n",
       "</table>\n",
       "</div>"
      ],
      "text/plain": [
       "               n             p  test stat   sig\n",
       "southwest  317.0  7.728611e-22  97.223886  True\n",
       "southeast  362.0  1.936990e-13  58.544942  True\n",
       "northwest  318.0  2.940543e-19  85.341045  True\n",
       "northeast  320.0  3.557877e-17  75.749565  True"
      ]
     },
     "execution_count": 57,
     "metadata": {},
     "output_type": "execute_result"
    }
   ],
   "source": [
    "## Running normal test on each group and confirming there are >20 in each group\n",
    "norm_results = {}\n",
    "for i, data in groups.items():\n",
    "    stat, p = stats.normaltest(data)\n",
    "    ## save the p val, test statistic, and the size of the group\n",
    "    norm_results[i] = {'n': len(data),\n",
    "                             'p':p,\n",
    "                             'test stat':stat,}\n",
    "## convert to a dataframe\n",
    "norm_results_df = pd.DataFrame(norm_results).T\n",
    "### checking sig with pandas \n",
    "norm_results_df['sig'] = norm_results_df['p'] < .05 \n",
    "norm_results_df"
   ]
  },
  {
   "cell_type": "markdown",
   "id": "117ad562",
   "metadata": {},
   "source": [
    "The groups does not have a normal distribution, but given that every group has over 15 observations, the test can be done."
   ]
  },
  {
   "cell_type": "code",
   "execution_count": 60,
   "id": "ed4dd74b",
   "metadata": {},
   "outputs": [
    {
     "data": {
      "text/plain": [
       "LeveneResult(statistic=9.518349004554441, pvalue=3.2035503711783993e-06)"
      ]
     },
     "execution_count": 60,
     "metadata": {},
     "output_type": "execute_result"
    }
   ],
   "source": [
    "stats.levene(*groups.values())"
   ]
  },
  {
   "cell_type": "markdown",
   "id": "6644bddd",
   "metadata": {},
   "source": [
    "The assumption of the equal variance is not met. A non-parametric test is needed."
   ]
  },
  {
   "cell_type": "code",
   "execution_count": 59,
   "id": "8c86969c",
   "metadata": {},
   "outputs": [
    {
     "data": {
      "image/png": "[encoded data removed]",
      "text/plain": [
       "<Figure size 576x396 with 1 Axes>"
      ]
     },
     "metadata": {},
     "output_type": "display_data"
    }
   ],
   "source": [
    "sns.barplot(data=df,x='region',y='charges');"
   ]
  },
  {
   "cell_type": "markdown",
   "id": "b8fa1e5b",
   "metadata": {},
   "source": [
    "The Kruskal-Wallis test is select to test the hypothesis for non-parametric."
   ]
  },
  {
   "cell_type": "code",
   "execution_count": 64,
   "id": "7c6f04b2",
   "metadata": {
    "scrolled": true
   },
   "outputs": [
    {
     "data": {
      "text/plain": [
       "KruskalResult(statistic=6.914045702545643, pvalue=0.07468847911322242)"
      ]
     },
     "execution_count": 64,
     "metadata": {},
     "output_type": "execute_result"
    }
   ],
   "source": [
    "stats.kruskal(*groups.values())"
   ]
  },
  {
   "cell_type": "markdown",
   "id": "69952059",
   "metadata": {},
   "source": [
    "pvalue is greater that the alpha that means that the null hypothesis is met, there is no signifficant difference between the different regions."
   ]
  },
  {
   "cell_type": "code",
   "execution_count": null,
   "id": "c2823287",
   "metadata": {},
   "outputs": [],
   "source": []
  }
 ],
 "metadata": {
  "kernelspec": {
   "display_name": "Python (dojo-env)",
   "language": "python",
   "name": "dojo-env"
  },
  "language_info": {
   "codemirror_mode": {
    "name": "ipython",
    "version": 3
   },
   "file_extension": ".py",
   "mimetype": "text/x-python",
   "name": "python",
   "nbconvert_exporter": "python",
   "pygments_lexer": "ipython3",
   "version": "3.8.13"
  },
  "toc": {
   "base_numbering": 1,
   "nav_menu": {},
   "number_sections": false,
   "sideBar": true,
   "skip_h1_title": false,
   "title_cell": "Table of Contents",
   "title_sidebar": "Contents",
   "toc_cell": false,
   "toc_position": {},
   "toc_section_display": true,
   "toc_window_display": true
  }
 },
 "nbformat": 4,
 "nbformat_minor": 5
}
